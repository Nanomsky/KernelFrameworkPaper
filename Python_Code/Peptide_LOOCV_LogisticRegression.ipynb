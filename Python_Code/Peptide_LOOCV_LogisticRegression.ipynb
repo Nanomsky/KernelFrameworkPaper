{
 "cells": [
  {
   "cell_type": "markdown",
   "metadata": {},
   "source": [
    "# A Novel Kernel-Based Approach For Uneven length Symbolic Data: A Case Study for Establishing Type 2 Diabetes Risk\n",
    "\n",
    "## Peptide\n",
    "### BOW Logistic Regression\n",
    "Script used to run Logistic Regression classifier on Bag-of-Words (Binary) feature representation of the Peptide validation dataset."
   ]
  },
  {
   "cell_type": "code",
   "execution_count": 1,
   "metadata": {},
   "outputs": [],
   "source": [
    "import pandas as pd\n",
    "import numpy as np\n",
    "from sklearn.model_selection import LeaveOneOut\n",
    "from sklearn.model_selection import cross_val_score\n",
    "from sklearn.model_selection import cross_val_predict\n",
    "from sklearn.linear_model import LogisticRegression\n",
    "from util_log import *"
   ]
  },
  {
   "cell_type": "code",
   "execution_count": 2,
   "metadata": {},
   "outputs": [],
   "source": [
    "#Load data\n",
    "df_BoW = pd.read_csv(R'C:\\Users\\NN133\\Documents\\GitHub\\AntiCancer_Peptides\\Bin_peptide.csv', header=None)\n",
    "df_BIN = pd.read_csv(R'C:\\Users\\NN133\\Documents\\GitHub\\AntiCancer_Peptides\\Bow_peptide.csv', header=None)"
   ]
  },
  {
   "cell_type": "code",
   "execution_count": 3,
   "metadata": {},
   "outputs": [],
   "source": [
    "labelloc = R'C:\\Users\\NN133\\Documents\\GitHub\\AntiCancer_Peptides\\ytr.csv'\n",
    "label = pd.read_csv(labelloc, header=None)"
   ]
  },
  {
   "cell_type": "code",
   "execution_count": 4,
   "metadata": {},
   "outputs": [
    {
     "data": {
      "text/plain": [
       "(388, 1)"
      ]
     },
     "execution_count": 4,
     "metadata": {},
     "output_type": "execute_result"
    }
   ],
   "source": [
    "#Extract the labels\n",
    "ytr = label.values\n",
    "ytr.shape"
   ]
  },
  {
   "cell_type": "code",
   "execution_count": 5,
   "metadata": {},
   "outputs": [
    {
     "name": "stdout",
     "output_type": "stream",
     "text": [
      "--> Size of BoW features --- (388, 22)\n",
      "--> Size of BIN features --- (388, 22)\n"
     ]
    }
   ],
   "source": [
    "#Extract the Data\n",
    "BoW = df_BoW.values\n",
    "BIN = df_BIN.values\n",
    "\n",
    "print(f'--> Size of BoW features --- {BoW.shape}')\n",
    "print(f'--> Size of BIN features --- {BIN.shape}')"
   ]
  },
  {
   "cell_type": "markdown",
   "metadata": {},
   "source": [
    "## Run LOOCV Logistic Regression on BoW"
   ]
  },
  {
   "cell_type": "code",
   "execution_count": 6,
   "metadata": {},
   "outputs": [
    {
     "name": "stdout",
     "output_type": "stream",
     "text": [
      "--> Bag-of-Words Accuracy: 0.920 (0.271)\n"
     ]
    }
   ],
   "source": [
    "#Run logistic Regression\n",
    "cv_Bow     = LeaveOneOut()\n",
    "LR_Bow     = LogisticRegression()\n",
    "scores_Bow = cross_val_score(LR_Bow, BoW, ytr, scoring='accuracy', cv=cv_Bow, n_jobs=-1)\n",
    "\n",
    "print('--> Bag-of-Words Accuracy: %.3f (%.3f)' % (np.mean(scores_Bow), np.std(scores_Bow)))"
   ]
  },
  {
   "cell_type": "code",
   "execution_count": 7,
   "metadata": {},
   "outputs": [],
   "source": [
    "#Predict\n",
    "Y_pred_Bow = cross_val_predict(LR_Bow, BoW, ytr, cv=cv_Bow, n_jobs=-1)"
   ]
  },
  {
   "cell_type": "code",
   "execution_count": 8,
   "metadata": {},
   "outputs": [
    {
     "name": "stdout",
     "output_type": "stream",
     "text": [
      "--> The total of 388 predicted with only 357 accurate predictions\n",
      "\n",
      "=======================\n",
      "Ground Truth comparison\n",
      "=======================\n",
      "\u001b[90m\n",
      "\u001b[90mActual label is True while we predicted True   -  \u001b[92mTrue Positive  =  179\n",
      "\u001b[90mActual label is False while we predicted False -  \u001b[92mTrue Negatve   =  178\n",
      "\u001b[90mActual label is False while we predicted True  -  \u001b[91mFalse Positive =  16\n",
      "\u001b[90mActual label is True while we predicted False  -  \u001b[91mFalse Negative =  15\n",
      "\n",
      "\u001b[94m\n",
      "--> 195 positive outcomes predicted\n",
      "--> 193 negative outcomes predicted\n",
      "--> An accuracy of 92.01 % was achieved\n",
      "--> Sensitity of 0.92 was achieved\n",
      "--> Specificity of 0.92 was achieved \n",
      "--> 0.5 rate of positive prediction\n",
      "--> 0.5 rate of negative prediction\n",
      "--> 0.08 false negative rate was achieved\n",
      "--> 0.08 false positve rate (fallout) was achieved\n",
      "--> Negative predictive value of 0.92\n",
      "--> Recall value 0f 0.92 achieved\n",
      "--> The precision vaue of 0.92 achieved\n",
      "--> An Fscore of 0.92 achieved\n"
     ]
    },
    {
     "data": {
      "image/png": "[encoded data removed]",
      "text/plain": [
       "<Figure size 576x288 with 2 Axes>"
      ]
     },
     "metadata": {
      "needs_background": "light"
     },
     "output_type": "display_data"
    }
   ],
   "source": [
    "#Extract evaluation metric on Train set\n",
    "eva_Train_Bow = EvaluateTest(Y_pred_Bow, np.squeeze(ytr))"
   ]
  },
  {
   "cell_type": "markdown",
   "metadata": {},
   "source": [
    "## Run Logistic Regression on BIN"
   ]
  },
  {
   "cell_type": "code",
   "execution_count": 9,
   "metadata": {},
   "outputs": [
    {
     "name": "stdout",
     "output_type": "stream",
     "text": [
      "--> Binary Bag-of-Words Accuracy: 0.925 (0.263)\n"
     ]
    }
   ],
   "source": [
    "#Run logistic Regression\n",
    "cv_BIN     = LeaveOneOut()\n",
    "LR_BIN     = LogisticRegression()\n",
    "scores_BIN = cross_val_score(LR_BIN, BIN, ytr, scoring='accuracy', cv=cv_BIN, n_jobs=-1)\n",
    "\n",
    "print('--> Binary Bag-of-Words Accuracy: %.3f (%.3f)' % (np.mean(scores_BIN), np.std(scores_BIN)))"
   ]
  },
  {
   "cell_type": "code",
   "execution_count": 10,
   "metadata": {},
   "outputs": [],
   "source": [
    "#Preditc\n",
    "Y_pred_BIN = cross_val_predict(LR_BIN, BIN, ytr, cv=cv_BIN, n_jobs=-1)"
   ]
  },
  {
   "cell_type": "code",
   "execution_count": 11,
   "metadata": {},
   "outputs": [
    {
     "name": "stdout",
     "output_type": "stream",
     "text": [
      "--> The total of 388 predicted with only 359 accurate predictions\n",
      "\n",
      "=======================\n",
      "Ground Truth comparison\n",
      "=======================\n",
      "\u001b[90m\n",
      "\u001b[90mActual label is True while we predicted True   -  \u001b[92mTrue Positive  =  182\n",
      "\u001b[90mActual label is False while we predicted False -  \u001b[92mTrue Negatve   =  177\n",
      "\u001b[90mActual label is False while we predicted True  -  \u001b[91mFalse Positive =  13\n",
      "\u001b[90mActual label is True while we predicted False  -  \u001b[91mFalse Negative =  16\n",
      "\n",
      "\u001b[94m\n",
      "--> 195 positive outcomes predicted\n",
      "--> 193 negative outcomes predicted\n",
      "--> An accuracy of 92.53 % was achieved\n",
      "--> Sensitity of 0.92 was achieved\n",
      "--> Specificity of 0.93 was achieved \n",
      "--> 0.5 rate of positive prediction\n",
      "--> 0.5 rate of negative prediction\n",
      "--> 0.08 false negative rate was achieved\n",
      "--> 0.07 false positve rate (fallout) was achieved\n",
      "--> Negative predictive value of 0.92\n",
      "--> Recall value 0f 0.92 achieved\n",
      "--> The precision vaue of 0.93 achieved\n",
      "--> An Fscore of 0.92 achieved\n"
     ]
    },
    {
     "data": {
      "image/png": "[encoded data removed]",
      "text/plain": [
       "<Figure size 576x288 with 2 Axes>"
      ]
     },
     "metadata": {
      "needs_background": "light"
     },
     "output_type": "display_data"
    }
   ],
   "source": [
    "#Extract evaluation metric on Train set\n",
    "eva_Train_BIN = EvaluateTest(Y_pred_BIN, np.squeeze(ytr))"
   ]
  },
  {
   "cell_type": "markdown",
   "metadata": {},
   "source": [
    "## Extract Results"
   ]
  },
  {
   "cell_type": "code",
   "execution_count": 12,
   "metadata": {},
   "outputs": [],
   "source": [
    "Tra_Bow  = list(eva_Train_Bow.values())\n",
    "Tra_BIN  = list(eva_Train_BIN.values())\n",
    "keysList = list(eva_Train_Bow.keys())"
   ]
  },
  {
   "cell_type": "code",
   "execution_count": 13,
   "metadata": {},
   "outputs": [
    {
     "data": {
      "text/html": [
       "<div>\n",
       "<style scoped>\n",
       "    .dataframe tbody tr th:only-of-type {\n",
       "        vertical-align: middle;\n",
       "    }\n",
       "\n",
       "    .dataframe tbody tr th {\n",
       "        vertical-align: top;\n",
       "    }\n",
       "\n",
       "    .dataframe thead th {\n",
       "        text-align: right;\n",
       "    }\n",
       "</style>\n",
       "<table border=\"1\" class=\"dataframe\">\n",
       "  <thead>\n",
       "    <tr style=\"text-align: right;\">\n",
       "      <th></th>\n",
       "      <th>Tra_Bow</th>\n",
       "      <th>Tra_BIN</th>\n",
       "    </tr>\n",
       "  </thead>\n",
       "  <tbody>\n",
       "    <tr>\n",
       "      <td>Pos</td>\n",
       "      <td>195.00</td>\n",
       "      <td>195.00</td>\n",
       "    </tr>\n",
       "    <tr>\n",
       "      <td>Neg</td>\n",
       "      <td>193.00</td>\n",
       "      <td>193.00</td>\n",
       "    </tr>\n",
       "    <tr>\n",
       "      <td>Accu</td>\n",
       "      <td>92.01</td>\n",
       "      <td>92.53</td>\n",
       "    </tr>\n",
       "    <tr>\n",
       "      <td>Sen</td>\n",
       "      <td>0.92</td>\n",
       "      <td>0.92</td>\n",
       "    </tr>\n",
       "    <tr>\n",
       "      <td>Spec</td>\n",
       "      <td>0.92</td>\n",
       "      <td>0.93</td>\n",
       "    </tr>\n",
       "    <tr>\n",
       "      <td>RPP</td>\n",
       "      <td>0.50</td>\n",
       "      <td>0.50</td>\n",
       "    </tr>\n",
       "    <tr>\n",
       "      <td>RNP</td>\n",
       "      <td>0.50</td>\n",
       "      <td>0.50</td>\n",
       "    </tr>\n",
       "    <tr>\n",
       "      <td>Miss</td>\n",
       "      <td>0.08</td>\n",
       "      <td>0.08</td>\n",
       "    </tr>\n",
       "    <tr>\n",
       "      <td>Fall</td>\n",
       "      <td>0.08</td>\n",
       "      <td>0.07</td>\n",
       "    </tr>\n",
       "    <tr>\n",
       "      <td>NPV</td>\n",
       "      <td>0.92</td>\n",
       "      <td>0.92</td>\n",
       "    </tr>\n",
       "    <tr>\n",
       "      <td>Recall</td>\n",
       "      <td>0.92</td>\n",
       "      <td>0.92</td>\n",
       "    </tr>\n",
       "    <tr>\n",
       "      <td>Precision</td>\n",
       "      <td>0.92</td>\n",
       "      <td>0.93</td>\n",
       "    </tr>\n",
       "    <tr>\n",
       "      <td>Fscore</td>\n",
       "      <td>0.92</td>\n",
       "      <td>0.92</td>\n",
       "    </tr>\n",
       "  </tbody>\n",
       "</table>\n",
       "</div>"
      ],
      "text/plain": [
       "           Tra_Bow  Tra_BIN\n",
       "Pos         195.00   195.00\n",
       "Neg         193.00   193.00\n",
       "Accu         92.01    92.53\n",
       "Sen           0.92     0.92\n",
       "Spec          0.92     0.93\n",
       "RPP           0.50     0.50\n",
       "RNP           0.50     0.50\n",
       "Miss          0.08     0.08\n",
       "Fall          0.08     0.07\n",
       "NPV           0.92     0.92\n",
       "Recall        0.92     0.92\n",
       "Precision     0.92     0.93\n",
       "Fscore        0.92     0.92"
      ]
     },
     "execution_count": 13,
     "metadata": {},
     "output_type": "execute_result"
    }
   ],
   "source": [
    "Result = pd.DataFrame(zip(Tra_Bow,Tra_BIN),index=keysList, columns=['Tra_Bow','Tra_BIN'])\n",
    "Result"
   ]
  },
  {
   "cell_type": "code",
   "execution_count": 14,
   "metadata": {},
   "outputs": [
    {
     "data": {
      "text/html": [
       "<div>\n",
       "<style scoped>\n",
       "    .dataframe tbody tr th:only-of-type {\n",
       "        vertical-align: middle;\n",
       "    }\n",
       "\n",
       "    .dataframe tbody tr th {\n",
       "        vertical-align: top;\n",
       "    }\n",
       "\n",
       "    .dataframe thead th {\n",
       "        text-align: right;\n",
       "    }\n",
       "</style>\n",
       "<table border=\"1\" class=\"dataframe\">\n",
       "  <thead>\n",
       "    <tr style=\"text-align: right;\">\n",
       "      <th></th>\n",
       "      <th>Fscore</th>\n",
       "      <th>Accu</th>\n",
       "      <th>Sen</th>\n",
       "      <th>Spec</th>\n",
       "    </tr>\n",
       "  </thead>\n",
       "  <tbody>\n",
       "    <tr>\n",
       "      <td>Tra_Bow</td>\n",
       "      <td>0.92</td>\n",
       "      <td>92.01</td>\n",
       "      <td>0.92</td>\n",
       "      <td>0.92</td>\n",
       "    </tr>\n",
       "    <tr>\n",
       "      <td>Tra_BIN</td>\n",
       "      <td>0.92</td>\n",
       "      <td>92.53</td>\n",
       "      <td>0.92</td>\n",
       "      <td>0.93</td>\n",
       "    </tr>\n",
       "  </tbody>\n",
       "</table>\n",
       "</div>"
      ],
      "text/plain": [
       "         Fscore   Accu   Sen  Spec\n",
       "Tra_Bow    0.92  92.01  0.92  0.92\n",
       "Tra_BIN    0.92  92.53  0.92  0.93"
      ]
     },
     "execution_count": 14,
     "metadata": {},
     "output_type": "execute_result"
    }
   ],
   "source": [
    "Result.loc[['Fscore','Accu','Sen','Spec' ],:].T"
   ]
  },
  {
   "cell_type": "markdown",
   "metadata": {},
   "source": []
  }
 ],
 "metadata": {
  "kernelspec": {
   "display_name": "Python 3",
   "language": "python",
   "name": "python3"
  },
  "language_info": {
   "codemirror_mode": {
    "name": "ipython",
    "version": 3
   },
   "file_extension": ".py",
   "mimetype": "text/x-python",
   "name": "python",
   "nbconvert_exporter": "python",
   "pygments_lexer": "ipython3",
   "version": "3.7.4"
  }
 },
 "nbformat": 4,
 "nbformat_minor": 5
}
