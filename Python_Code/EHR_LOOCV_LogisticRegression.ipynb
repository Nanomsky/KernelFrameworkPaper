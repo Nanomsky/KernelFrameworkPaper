{
 "cells": [
  {
   "cell_type": "markdown",
   "metadata": {},
   "source": [
    "# A Novel Kernel-Based Approach For Uneven length Symbolic Data: A Case Study for Establishing Type 2 Diabetes Risk\n",
    "\n",
    "\n",
    "### BOW Logistic Regression\n"
   ]
  },
  {
   "cell_type": "code",
   "execution_count": 1,
   "metadata": {},
   "outputs": [],
   "source": [
    "import pandas as pd\n",
    "import numpy as np\n",
    "from sklearn.model_selection import LeaveOneOut\n",
    "from sklearn.model_selection import cross_val_score\n",
    "from sklearn.model_selection import cross_val_predict\n",
    "from sklearn.linear_model import LogisticRegression\n",
    "from util_log import *"
   ]
  },
  {
   "cell_type": "code",
   "execution_count": 2,
   "metadata": {},
   "outputs": [],
   "source": [
    "df_BoW = pd.read_csv('./SBag_of_words.csv', header=None)\n",
    "df_BIN = pd.read_csv('./SBinaryCount.csv', header=None)"
   ]
  },
  {
   "cell_type": "code",
   "execution_count": 3,
   "metadata": {},
   "outputs": [],
   "source": [
    "labelloc = './LogRegressProj/ytr.csv'\n",
    "label = pd.read_csv(labelloc, header=None)"
   ]
  },
  {
   "cell_type": "code",
   "execution_count": 4,
   "metadata": {},
   "outputs": [],
   "source": [
    "#Change the -ve label from -1 to 0\n",
    "label.replace({-1:0}, inplace=True)"
   ]
  },
  {
   "cell_type": "code",
   "execution_count": 5,
   "metadata": {},
   "outputs": [
    {
     "data": {
      "text/plain": [
       "(158, 1)"
      ]
     },
     "execution_count": 5,
     "metadata": {},
     "output_type": "execute_result"
    }
   ],
   "source": [
    "#Extract the labels\n",
    "ytr = label.values\n",
    "ytr.shape"
   ]
  },
  {
   "cell_type": "code",
   "execution_count": 6,
   "metadata": {},
   "outputs": [
    {
     "name": "stdout",
     "output_type": "stream",
     "text": [
      "--> Size of BoW features --- (158, 3054)\n",
      "--> Size of BIN features --- (158, 3054)\n"
     ]
    }
   ],
   "source": [
    "#Extract the Data\n",
    "BoW = df_BoW.values\n",
    "BIN = df_BIN.values\n",
    "\n",
    "print(f'--> Size of BoW features --- {BoW.shape}')\n",
    "print(f'--> Size of BIN features --- {BIN.shape}')"
   ]
  },
  {
   "cell_type": "markdown",
   "metadata": {},
   "source": [
    "## Run LOOCV Logistic Regression on BoW"
   ]
  },
  {
   "cell_type": "code",
   "execution_count": 7,
   "metadata": {},
   "outputs": [
    {
     "name": "stdout",
     "output_type": "stream",
     "text": [
      "--> Bag-of-Words Accuracy: 0.570 (0.495)\n"
     ]
    }
   ],
   "source": [
    "#Run logistic Regression\n",
    "cv_Bow     = LeaveOneOut()\n",
    "LR_Bow     = LogisticRegression()\n",
    "scores_Bow = cross_val_score(LR_Bow, BoW, ytr, scoring='accuracy', cv=cv_Bow, n_jobs=-1)\n",
    "\n",
    "print('--> Bag-of-Words Accuracy: %.3f (%.3f)' % (np.mean(scores_Bow), np.std(scores_Bow)))"
   ]
  },
  {
   "cell_type": "code",
   "execution_count": 8,
   "metadata": {},
   "outputs": [],
   "source": [
    "#Predict\n",
    "Y_pred_Bow = cross_val_predict(LR_Bow, BoW, ytr, cv=cv_Bow, n_jobs=-1)"
   ]
  },
  {
   "cell_type": "code",
   "execution_count": 9,
   "metadata": {},
   "outputs": [
    {
     "name": "stdout",
     "output_type": "stream",
     "text": [
      "--> The total of 158 predicted with only 90 accurate predictions\n",
      "\n",
      "=======================\n",
      "Ground Truth comparison\n",
      "=======================\n",
      "\u001b[90m\n",
      "\u001b[90mActual label is True while we predicted True   -  \u001b[92mTrue Positive  =  35\n",
      "\u001b[90mActual label is False while we predicted False -  \u001b[92mTrue Negatve   =  55\n",
      "\u001b[90mActual label is False while we predicted True  -  \u001b[91mFalse Positive =  31\n",
      "\u001b[90mActual label is True while we predicted False  -  \u001b[91mFalse Negative =  37\n",
      "\n",
      "\u001b[94m\n",
      "--> 66 positive outcomes predicted\n",
      "--> 92 negative outcomes predicted\n",
      "--> An accuracy of 56.96 % was achieved\n",
      "--> Sensitity of 0.49 was achieved\n",
      "--> Specificity of 0.64 was achieved \n",
      "--> 0.42 rate of positive prediction\n",
      "--> 0.58 rate of negative prediction\n",
      "--> 0.51 false negative rate was achieved\n",
      "--> 0.36 false positve rate (fallout) was achieved\n",
      "--> Negative predictive value of 0.6\n",
      "--> Recall value 0f 0.49 achieved\n",
      "--> The precision vaue of 0.53 achieved\n",
      "--> An Fscore of 0.51 achieved\n"
     ]
    },
    {
     "data": {
      "image/png": "[encoded data removed]",
      "text/plain": [
       "<Figure size 576x288 with 2 Axes>"
      ]
     },
     "metadata": {},
     "output_type": "display_data"
    }
   ],
   "source": [
    "#Extract evaluation metric on Train set\n",
    "eva_Train_Bow = EvaluateTest(Y_pred_Bow, np.squeeze(ytr))"
   ]
  },
  {
   "cell_type": "markdown",
   "metadata": {},
   "source": [
    "## Run Logistic Regression on BIN"
   ]
  },
  {
   "cell_type": "code",
   "execution_count": 10,
   "metadata": {},
   "outputs": [
    {
     "name": "stdout",
     "output_type": "stream",
     "text": [
      "--> Binary Bag-of-Words Accuracy: 0.703 (0.457)\n"
     ]
    }
   ],
   "source": [
    "#Run logistic Regression\n",
    "cv_BIN     = LeaveOneOut()\n",
    "LR_BIN     = LogisticRegression()\n",
    "scores_BIN = cross_val_score(LR_BIN, BIN, ytr, scoring='accuracy', cv=cv_BIN, n_jobs=-1)\n",
    "\n",
    "print('--> Binary Bag-of-Words Accuracy: %.3f (%.3f)' % (np.mean(scores_BIN), np.std(scores_BIN)))"
   ]
  },
  {
   "cell_type": "code",
   "execution_count": 11,
   "metadata": {},
   "outputs": [],
   "source": [
    "#Preditc\n",
    "Y_pred_BIN = cross_val_predict(LR_BIN, BIN, ytr, cv=cv_BIN, n_jobs=-1)"
   ]
  },
  {
   "cell_type": "code",
   "execution_count": 12,
   "metadata": {},
   "outputs": [
    {
     "name": "stdout",
     "output_type": "stream",
     "text": [
      "--> The total of 158 predicted with only 111 accurate predictions\n",
      "\n",
      "=======================\n",
      "Ground Truth comparison\n",
      "=======================\n",
      "\u001b[90m\n",
      "\u001b[90mActual label is True while we predicted True   -  \u001b[92mTrue Positive  =  41\n",
      "\u001b[90mActual label is False while we predicted False -  \u001b[92mTrue Negatve   =  70\n",
      "\u001b[90mActual label is False while we predicted True  -  \u001b[91mFalse Positive =  25\n",
      "\u001b[90mActual label is True while we predicted False  -  \u001b[91mFalse Negative =  22\n",
      "\n",
      "\u001b[94m\n",
      "--> 66 positive outcomes predicted\n",
      "--> 92 negative outcomes predicted\n",
      "--> An accuracy of 70.25 % was achieved\n",
      "--> Sensitity of 0.65 was achieved\n",
      "--> Specificity of 0.74 was achieved \n",
      "--> 0.42 rate of positive prediction\n",
      "--> 0.58 rate of negative prediction\n",
      "--> 0.35 false negative rate was achieved\n",
      "--> 0.26 false positve rate (fallout) was achieved\n",
      "--> Negative predictive value of 0.76\n",
      "--> Recall value 0f 0.65 achieved\n",
      "--> The precision vaue of 0.62 achieved\n",
      "--> An Fscore of 0.63 achieved\n"
     ]
    },
    {
     "data": {
      "image/png": "[encoded data removed]",
      "text/plain": [
       "<Figure size 576x288 with 2 Axes>"
      ]
     },
     "metadata": {},
     "output_type": "display_data"
    }
   ],
   "source": [
    "#Extract evaluation metric on Train set\n",
    "eva_Train_BIN = EvaluateTest(Y_pred_BIN, np.squeeze(ytr))"
   ]
  },
  {
   "cell_type": "markdown",
   "metadata": {},
   "source": [
    "## Extract Results"
   ]
  },
  {
   "cell_type": "code",
   "execution_count": 13,
   "metadata": {},
   "outputs": [],
   "source": [
    "Tra_Bow  = list(eva_Train_Bow.values())\n",
    "Tra_BIN  = list(eva_Train_BIN.values())\n",
    "keysList = list(eva_Train_Bow.keys())"
   ]
  },
  {
   "cell_type": "code",
   "execution_count": 14,
   "metadata": {},
   "outputs": [
    {
     "data": {
      "text/html": [
       "<div>\n",
       "<style scoped>\n",
       "    .dataframe tbody tr th:only-of-type {\n",
       "        vertical-align: middle;\n",
       "    }\n",
       "\n",
       "    .dataframe tbody tr th {\n",
       "        vertical-align: top;\n",
       "    }\n",
       "\n",
       "    .dataframe thead th {\n",
       "        text-align: right;\n",
       "    }\n",
       "</style>\n",
       "<table border=\"1\" class=\"dataframe\">\n",
       "  <thead>\n",
       "    <tr style=\"text-align: right;\">\n",
       "      <th></th>\n",
       "      <th>Tra_Bow</th>\n",
       "      <th>Tra_BIN</th>\n",
       "    </tr>\n",
       "  </thead>\n",
       "  <tbody>\n",
       "    <tr>\n",
       "      <th>Pos</th>\n",
       "      <td>66.00</td>\n",
       "      <td>66.00</td>\n",
       "    </tr>\n",
       "    <tr>\n",
       "      <th>Neg</th>\n",
       "      <td>92.00</td>\n",
       "      <td>92.00</td>\n",
       "    </tr>\n",
       "    <tr>\n",
       "      <th>Accu</th>\n",
       "      <td>56.96</td>\n",
       "      <td>70.25</td>\n",
       "    </tr>\n",
       "    <tr>\n",
       "      <th>Sen</th>\n",
       "      <td>0.49</td>\n",
       "      <td>0.65</td>\n",
       "    </tr>\n",
       "    <tr>\n",
       "      <th>Spec</th>\n",
       "      <td>0.64</td>\n",
       "      <td>0.74</td>\n",
       "    </tr>\n",
       "    <tr>\n",
       "      <th>RPP</th>\n",
       "      <td>0.42</td>\n",
       "      <td>0.42</td>\n",
       "    </tr>\n",
       "    <tr>\n",
       "      <th>RNP</th>\n",
       "      <td>0.58</td>\n",
       "      <td>0.58</td>\n",
       "    </tr>\n",
       "    <tr>\n",
       "      <th>Miss</th>\n",
       "      <td>0.51</td>\n",
       "      <td>0.35</td>\n",
       "    </tr>\n",
       "    <tr>\n",
       "      <th>Fall</th>\n",
       "      <td>0.36</td>\n",
       "      <td>0.26</td>\n",
       "    </tr>\n",
       "    <tr>\n",
       "      <th>NPV</th>\n",
       "      <td>0.60</td>\n",
       "      <td>0.76</td>\n",
       "    </tr>\n",
       "    <tr>\n",
       "      <th>Recall</th>\n",
       "      <td>0.49</td>\n",
       "      <td>0.65</td>\n",
       "    </tr>\n",
       "    <tr>\n",
       "      <th>Precision</th>\n",
       "      <td>0.53</td>\n",
       "      <td>0.62</td>\n",
       "    </tr>\n",
       "    <tr>\n",
       "      <th>Fscore</th>\n",
       "      <td>0.51</td>\n",
       "      <td>0.63</td>\n",
       "    </tr>\n",
       "  </tbody>\n",
       "</table>\n",
       "</div>"
      ],
      "text/plain": [
       "           Tra_Bow  Tra_BIN\n",
       "Pos          66.00    66.00\n",
       "Neg          92.00    92.00\n",
       "Accu         56.96    70.25\n",
       "Sen           0.49     0.65\n",
       "Spec          0.64     0.74\n",
       "RPP           0.42     0.42\n",
       "RNP           0.58     0.58\n",
       "Miss          0.51     0.35\n",
       "Fall          0.36     0.26\n",
       "NPV           0.60     0.76\n",
       "Recall        0.49     0.65\n",
       "Precision     0.53     0.62\n",
       "Fscore        0.51     0.63"
      ]
     },
     "execution_count": 14,
     "metadata": {},
     "output_type": "execute_result"
    }
   ],
   "source": [
    "Result = pd.DataFrame(zip(Tra_Bow,Tra_BIN),index=keysList, columns=['Tra_Bow','Tra_BIN'])\n",
    "Result"
   ]
  },
  {
   "cell_type": "code",
   "execution_count": 15,
   "metadata": {},
   "outputs": [
    {
     "data": {
      "text/html": [
       "<div>\n",
       "<style scoped>\n",
       "    .dataframe tbody tr th:only-of-type {\n",
       "        vertical-align: middle;\n",
       "    }\n",
       "\n",
       "    .dataframe tbody tr th {\n",
       "        vertical-align: top;\n",
       "    }\n",
       "\n",
       "    .dataframe thead th {\n",
       "        text-align: right;\n",
       "    }\n",
       "</style>\n",
       "<table border=\"1\" class=\"dataframe\">\n",
       "  <thead>\n",
       "    <tr style=\"text-align: right;\">\n",
       "      <th></th>\n",
       "      <th>Fscore</th>\n",
       "      <th>Accu</th>\n",
       "      <th>Sen</th>\n",
       "      <th>Spec</th>\n",
       "    </tr>\n",
       "  </thead>\n",
       "  <tbody>\n",
       "    <tr>\n",
       "      <th>Tra_Bow</th>\n",
       "      <td>0.51</td>\n",
       "      <td>56.96</td>\n",
       "      <td>0.49</td>\n",
       "      <td>0.64</td>\n",
       "    </tr>\n",
       "    <tr>\n",
       "      <th>Tra_BIN</th>\n",
       "      <td>0.63</td>\n",
       "      <td>70.25</td>\n",
       "      <td>0.65</td>\n",
       "      <td>0.74</td>\n",
       "    </tr>\n",
       "  </tbody>\n",
       "</table>\n",
       "</div>"
      ],
      "text/plain": [
       "         Fscore   Accu   Sen  Spec\n",
       "Tra_Bow    0.51  56.96  0.49  0.64\n",
       "Tra_BIN    0.63  70.25  0.65  0.74"
      ]
     },
     "execution_count": 15,
     "metadata": {},
     "output_type": "execute_result"
    }
   ],
   "source": [
    "Result.loc[['Fscore','Accu','Sen','Spec' ],:].T"
   ]
  },
  {
   "cell_type": "markdown",
   "metadata": {},
   "source": []
  }
 ],
 "metadata": {
  "kernelspec": {
   "display_name": "Python 3",
   "language": "python",
   "name": "python3"
  },
  "language_info": {
   "codemirror_mode": {
    "name": "ipython",
    "version": 3
   },
   "file_extension": ".py",
   "mimetype": "text/x-python",
   "name": "python",
   "nbconvert_exporter": "python",
   "pygments_lexer": "ipython3",
   "version": "3.7.4"
  }
 },
 "nbformat": 4,
 "nbformat_minor": 5
}
